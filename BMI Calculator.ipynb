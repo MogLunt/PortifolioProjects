{
 "cells": [
  {
   "cell_type": "code",
   "execution_count": 50,
   "id": "66ae364f",
   "metadata": {},
   "outputs": [
    {
     "name": "stdout",
     "output_type": "stream",
     "text": [
      "Enter your name: John\n",
      "Enter your weight in pounds: 170\n",
      "Enter your weight in inches: 62\n",
      "31.090010405827265\n",
      "John, you are obese.\n"
     ]
    }
   ],
   "source": [
    "name = input(\"Enter your name: \")\n",
    "\n",
    "weight = int(input(\"Enter your weight in pounds: \"))\n",
    "\n",
    "height = int(input(\"Enter your weight in inches: \"))\n",
    "\n",
    "MBI = (weight * 703) / (height * height)\n",
    "\n",
    "print(MBI)\n",
    "\n",
    "if BMI>0:\n",
    "    if(BMI<18.5):\n",
    "        print(name+\", you are underweight.\")\n",
    "    elif(BMI<=24.9):\n",
    "        print(name+\", you are normal weight.\")\n",
    "    elif(BMI<=29.9):\n",
    "        print(name+\", you are overweight.\")\n",
    "    elif(BMI<= 34.9):\n",
    "        print(name+\", you are obese.\")\n",
    "    elif(BMI<= 39.9):\n",
    "        print(name+\", you are severely obese.\")\n",
    "    else:\n",
    "        print(name+\", you are morbidly obese\")\n",
    "else:\n",
    "    print(\"Enter valid input\")\n",
    "    \n",
    "\n"
   ]
  },
  {
   "cell_type": "code",
   "execution_count": null,
   "id": "c9ac1f14",
   "metadata": {},
   "outputs": [],
   "source": []
  },
  {
   "cell_type": "code",
   "execution_count": null,
   "id": "e6cd851e",
   "metadata": {},
   "outputs": [],
   "source": [
    "Under 18.5\tUnderweight\tMinimal\n",
    "18.5 - 24.9\tNormal Weight\tMinimal\n",
    "25 - 29.9\tOverweight\tIncreased\n",
    "30 - 34.9\tObese\tHigh\n",
    "35 - 39.9\tSeverely Obese\tVery High\n",
    "40 and over\tMorbidly Obese\tExtremely High"
   ]
  },
  {
   "cell_type": "code",
   "execution_count": null,
   "id": "d4a18783",
   "metadata": {},
   "outputs": [],
   "source": [
    "if BMI>0:\n",
    "    if(BMI<18.5):\n",
    "        print(name+\", you are underweight.\")\n",
    "    elif(BMI<=24.9):\n",
    "        print(name+\", you are normal weight.\")\n",
    "    elif(BMI<=29.9):\n",
    "        print(name+\", you are overweight.\")\n",
    "    elif(BMI<= 34.9):\n",
    "        print(name+\", you are obese.\")\n",
    "    elif(BMI<= 39.9):\n",
    "        print(name+\", you are severely obese.\")\n",
    "    else:\n",
    "        print(name+\", you are morbidly obese\")\n",
    "else:\n",
    "    print(\"Enter valid input\")\n",
    "    "
   ]
  }
 ],
 "metadata": {
  "kernelspec": {
   "display_name": "Python 3 (ipykernel)",
   "language": "python",
   "name": "python3"
  },
  "language_info": {
   "codemirror_mode": {
    "name": "ipython",
    "version": 3
   },
   "file_extension": ".py",
   "mimetype": "text/x-python",
   "name": "python",
   "nbconvert_exporter": "python",
   "pygments_lexer": "ipython3",
   "version": "3.11.5"
  }
 },
 "nbformat": 4,
 "nbformat_minor": 5
}
